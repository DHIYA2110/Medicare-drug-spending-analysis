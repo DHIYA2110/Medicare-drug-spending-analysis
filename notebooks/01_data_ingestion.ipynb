{
 "cells": [
  {
   "cell_type": "code",
   "execution_count": 1,
   "id": "3e2f6e58",
   "metadata": {},
   "outputs": [],
   "source": [
    "# ### Step 1: Imports & Logging Setup\n",
    "import os\n",
    "import pandas as pd\n",
    "import logging\n",
    "from datetime import datetime\n",
    "\n",
    "# Create logs folder if it doesn’t exist\n",
    "if not os.path.exists(\"../logs\"):\n",
    "    os.makedirs(\"../logs\")\n",
    "\n",
    "# Logging configuration\n",
    "logging.basicConfig(\n",
    "    filename=\"../logs/ingestion.log\",\n",
    "    level=logging.INFO,\n",
    "    format=\"%(asctime)s - %(levelname)s - %(message)s\"\n",
    ")\n",
    "logger = logging.getLogger()\n"
   ]
  },
  {
   "cell_type": "code",
   "execution_count": 2,
   "id": "4b0d9204",
   "metadata": {},
   "outputs": [
    {
     "name": "stdout",
     "output_type": "stream",
     "text": [
      "Dataset loaded: (14309, 46)\n"
     ]
    }
   ],
   "source": [
    "# ### Step 2: Load the raw dataset\n",
    "data_path = r\"C:\\Users\\pro\\Downloads\\medicare-drug-spending-analysis\\data\\raw\\medicare_partD_drug_spending.csv\"\n",
    "\n",
    "try:\n",
    "    df = pd.read_csv(data_path)\n",
    "    logger.info(f\"Dataset loaded successfully from {data_path} with shape {df.shape}\")\n",
    "    print(f\"Dataset loaded: {df.shape}\")\n",
    "except FileNotFoundError:\n",
    "    logger.error(f\"File not found at {data_path}\")\n",
    "    raise\n"
   ]
  },
  {
   "cell_type": "code",
   "execution_count": 3,
   "id": "dfaa519b",
   "metadata": {},
   "outputs": [
    {
     "name": "stdout",
     "output_type": "stream",
     "text": [
      "                       Brnd_Name             Gnrc_Name  Tot_Mftr  \\\n",
      "0       1st Tier Unifine Pentips  Pen Needle, Diabetic         1   \n",
      "1       1st Tier Unifine Pentips  Pen Needle, Diabetic         1   \n",
      "2  1st Tier Unifine Pentips Plus  Pen Needle, Diabetic         1   \n",
      "3  1st Tier Unifine Pentips Plus  Pen Needle, Diabetic         1   \n",
      "4                       Abacavir      Abacavir Sulfate         5   \n",
      "\n",
      "         Mftr_Name  Tot_Spndng_2019  Tot_Dsg_Unts_2019  Tot_Clms_2019  \\\n",
      "0          Overall        139201.68           642471.0         5392.0   \n",
      "1  Owen Mumford Us        139201.68           642471.0         5392.0   \n",
      "2          Overall        343031.42          1830596.0        14581.0   \n",
      "3  Owen Mumford Us        343031.42          1830596.0        14581.0   \n",
      "4          Overall      10110328.45          3316293.0        42629.0   \n",
      "\n",
      "   Tot_Benes_2019  Avg_Spnd_Per_Dsg_Unt_Wghtd_2019  Avg_Spnd_Per_Clm_2019  \\\n",
      "0          1878.0                         0.216788              25.816335   \n",
      "1          1878.0                         0.216788              25.816335   \n",
      "2          5319.0                         0.187389              23.525919   \n",
      "3          5319.0                         0.187389              23.525919   \n",
      "4          6085.0                         3.482725             237.170200   \n",
      "\n",
      "   ...  Tot_Spndng_2023  Tot_Dsg_Unts_2023  Tot_Clms_2023  Tot_Benes_2023  \\\n",
      "0  ...         44355.04           195672.0           1613           699.0   \n",
      "1  ...         44355.04           195672.0           1613           699.0   \n",
      "2  ...         97951.18           406617.0           3269          1267.0   \n",
      "3  ...         97951.18           406617.0           3269          1267.0   \n",
      "4  ...       5287295.41          1648593.0          19632          2809.0   \n",
      "\n",
      "   Avg_Spnd_Per_Dsg_Unt_Wghtd_2023  Avg_Spnd_Per_Clm_2023  \\\n",
      "0                         0.227162              27.498475   \n",
      "1                         0.227162              27.498475   \n",
      "2                         0.240932              29.963652   \n",
      "3                         0.240932              29.963652   \n",
      "4                         3.594357             269.320263   \n",
      "\n",
      "   Avg_Spnd_Per_Bene_2023  Outlier_Flag_2023  Chg_Avg_Spnd_Per_Dsg_Unt_22_23  \\\n",
      "0               63.454993                0.0                        0.005702   \n",
      "1               63.454993                0.0                        0.005702   \n",
      "2               77.309534                0.0                        0.022165   \n",
      "3               77.309534                0.0                        0.022165   \n",
      "4             1882.269637                0.0                       -0.071481   \n",
      "\n",
      "   CAGR_Avg_Spnd_Per_Dsg_Unt_19_23  \n",
      "0                         0.011754  \n",
      "1                         0.011754  \n",
      "2                         0.064848  \n",
      "3                         0.064848  \n",
      "4                         0.007919  \n",
      "\n",
      "[5 rows x 46 columns]\n"
     ]
    }
   ],
   "source": [
    "# ### Step 3: Preview data\n",
    "print(df.head())\n",
    "logger.info(f\"Columns: {list(df.columns)}\")\n"
   ]
  },
  {
   "cell_type": "code",
   "execution_count": 4,
   "id": "2e503f89",
   "metadata": {},
   "outputs": [
    {
     "name": "stdout",
     "output_type": "stream",
     "text": [
      "Processed dataset saved to C:\\Users\\pro\\Downloads\\medicare-drug-spending-analysis\\data\\processed\\medicare_drug_spending_clean.csv\n"
     ]
    }
   ],
   "source": [
    "# ### Step 4: Save a processed copy\n",
    "processed_path = r\"C:\\Users\\pro\\Downloads\\medicare-drug-spending-analysis\\data\\processed\"\n",
    "if not os.path.exists(processed_path):\n",
    "    os.makedirs(processed_path)\n",
    "\n",
    "output_file = os.path.join(processed_path, \"medicare_drug_spending_clean.csv\")\n",
    "df.to_csv(output_file, index=False)\n",
    "logger.info(f\"Saved processed dataset to {output_file}\")\n",
    "print(f\"Processed dataset saved to {output_file}\")\n"
   ]
  },
  {
   "cell_type": "code",
   "execution_count": 5,
   "id": "99ef1452",
   "metadata": {},
   "outputs": [
    {
     "name": "stdout",
     "output_type": "stream",
     "text": [
      "Rows: 14309, Columns: 46\n"
     ]
    }
   ],
   "source": [
    " \n",
    "logger.info(f\"Rows: {df.shape[0]}, Columns: {df.shape[1]}\")\n",
    "print(f\"Rows: {df.shape[0]}, Columns: {df.shape[1]}\")"
   ]
  },
  {
   "cell_type": "code",
   "execution_count": 6,
   "id": "67bd082a",
   "metadata": {},
   "outputs": [
    {
     "name": "stdout",
     "output_type": "stream",
     "text": [
      "Duplicate rows: 0\n"
     ]
    }
   ],
   "source": [
    "duplicates = df.duplicated().sum()\n",
    "logger.info(f\"Duplicate rows: {duplicates}\")\n",
    "print(f\"Duplicate rows: {duplicates}\")"
   ]
  },
  {
   "cell_type": "code",
   "execution_count": 7,
   "id": "88b83f95",
   "metadata": {},
   "outputs": [
    {
     "name": "stdout",
     "output_type": "stream",
     "text": [
      "Brnd_Name                             0\n",
      "Gnrc_Name                             0\n",
      "Tot_Mftr                              0\n",
      "Mftr_Name                             0\n",
      "Tot_Spndng_2019                    4205\n",
      "Tot_Dsg_Unts_2019                  4205\n",
      "Tot_Clms_2019                      4205\n",
      "Tot_Benes_2019                     4292\n",
      "Avg_Spnd_Per_Dsg_Unt_Wghtd_2019    4205\n",
      "Avg_Spnd_Per_Clm_2019              4205\n",
      "Avg_Spnd_Per_Bene_2019             4399\n",
      "Outlier_Flag_2019                  4207\n",
      "Tot_Spndng_2020                    3258\n",
      "Tot_Dsg_Unts_2020                  3258\n",
      "Tot_Clms_2020                      3258\n",
      "Tot_Benes_2020                     3435\n",
      "Avg_Spnd_Per_Dsg_Unt_Wghtd_2020    3258\n",
      "Avg_Spnd_Per_Clm_2020              3258\n",
      "Avg_Spnd_Per_Bene_2020             3518\n",
      "Outlier_Flag_2020                  3262\n",
      "Tot_Spndng_2021                    2278\n",
      "Tot_Dsg_Unts_2021                  2278\n",
      "Tot_Clms_2021                      2278\n",
      "Tot_Benes_2021                     2590\n",
      "Avg_Spnd_Per_Dsg_Unt_Wghtd_2021    2278\n",
      "Avg_Spnd_Per_Clm_2021              2278\n",
      "Avg_Spnd_Per_Bene_2021             2612\n",
      "Outlier_Flag_2021                  2282\n",
      "Tot_Spndng_2022                    1326\n",
      "Tot_Dsg_Unts_2022                  1326\n",
      "Tot_Clms_2022                      1326\n",
      "Tot_Benes_2022                     1730\n",
      "Avg_Spnd_Per_Dsg_Unt_Wghtd_2022    1326\n",
      "Avg_Spnd_Per_Clm_2022              1326\n",
      "Avg_Spnd_Per_Bene_2022             1735\n",
      "Outlier_Flag_2022                  1335\n",
      "Tot_Spndng_2023                       0\n",
      "Tot_Dsg_Unts_2023                     0\n",
      "Tot_Clms_2023                         0\n",
      "Tot_Benes_2023                      762\n",
      "Avg_Spnd_Per_Dsg_Unt_Wghtd_2023       0\n",
      "Avg_Spnd_Per_Clm_2023                 0\n",
      "Avg_Spnd_Per_Bene_2023              762\n",
      "Outlier_Flag_2023                    13\n",
      "Chg_Avg_Spnd_Per_Dsg_Unt_22_23     1326\n",
      "CAGR_Avg_Spnd_Per_Dsg_Unt_19_23    1161\n",
      "dtype: int64\n"
     ]
    }
   ],
   "source": [
    "missing = df.isnull().sum()\n",
    "logger.info(f\"Missing values per column:\\n{missing}\")\n",
    "print(missing)\n"
   ]
  },
  {
   "cell_type": "code",
   "execution_count": 8,
   "id": "4a484876",
   "metadata": {},
   "outputs": [
    {
     "name": "stdout",
     "output_type": "stream",
     "text": [
      "Brnd_Name                           object\n",
      "Gnrc_Name                           object\n",
      "Tot_Mftr                             int64\n",
      "Mftr_Name                           object\n",
      "Tot_Spndng_2019                    float64\n",
      "Tot_Dsg_Unts_2019                  float64\n",
      "Tot_Clms_2019                      float64\n",
      "Tot_Benes_2019                     float64\n",
      "Avg_Spnd_Per_Dsg_Unt_Wghtd_2019    float64\n",
      "Avg_Spnd_Per_Clm_2019              float64\n",
      "Avg_Spnd_Per_Bene_2019             float64\n",
      "Outlier_Flag_2019                  float64\n",
      "Tot_Spndng_2020                    float64\n",
      "Tot_Dsg_Unts_2020                  float64\n",
      "Tot_Clms_2020                      float64\n",
      "Tot_Benes_2020                     float64\n",
      "Avg_Spnd_Per_Dsg_Unt_Wghtd_2020    float64\n",
      "Avg_Spnd_Per_Clm_2020              float64\n",
      "Avg_Spnd_Per_Bene_2020             float64\n",
      "Outlier_Flag_2020                  float64\n",
      "Tot_Spndng_2021                    float64\n",
      "Tot_Dsg_Unts_2021                  float64\n",
      "Tot_Clms_2021                      float64\n",
      "Tot_Benes_2021                     float64\n",
      "Avg_Spnd_Per_Dsg_Unt_Wghtd_2021    float64\n",
      "Avg_Spnd_Per_Clm_2021              float64\n",
      "Avg_Spnd_Per_Bene_2021             float64\n",
      "Outlier_Flag_2021                  float64\n",
      "Tot_Spndng_2022                    float64\n",
      "Tot_Dsg_Unts_2022                  float64\n",
      "Tot_Clms_2022                      float64\n",
      "Tot_Benes_2022                     float64\n",
      "Avg_Spnd_Per_Dsg_Unt_Wghtd_2022    float64\n",
      "Avg_Spnd_Per_Clm_2022              float64\n",
      "Avg_Spnd_Per_Bene_2022             float64\n",
      "Outlier_Flag_2022                  float64\n",
      "Tot_Spndng_2023                    float64\n",
      "Tot_Dsg_Unts_2023                  float64\n",
      "Tot_Clms_2023                        int64\n",
      "Tot_Benes_2023                     float64\n",
      "Avg_Spnd_Per_Dsg_Unt_Wghtd_2023    float64\n",
      "Avg_Spnd_Per_Clm_2023              float64\n",
      "Avg_Spnd_Per_Bene_2023             float64\n",
      "Outlier_Flag_2023                  float64\n",
      "Chg_Avg_Spnd_Per_Dsg_Unt_22_23     float64\n",
      "CAGR_Avg_Spnd_Per_Dsg_Unt_19_23    float64\n",
      "dtype: object\n"
     ]
    }
   ],
   "source": [
    "logger.info(f\"Data types:\\n{df.dtypes}\")\n",
    "print(df.dtypes)"
   ]
  },
  {
   "cell_type": "code",
   "execution_count": 9,
   "id": "1281a11f",
   "metadata": {},
   "outputs": [
    {
     "name": "stdout",
     "output_type": "stream",
     "text": [
      "Tot_Spndng_2019    0\n",
      "Tot_Clms_2019      0\n",
      "Tot_Spndng_2020    0\n",
      "Tot_Clms_2020      0\n",
      "Tot_Spndng_2021    0\n",
      "Tot_Clms_2021      0\n",
      "Tot_Spndng_2022    0\n",
      "Tot_Clms_2022      0\n",
      "Tot_Spndng_2023    0\n",
      "Tot_Clms_2023      0\n",
      "dtype: int64\n"
     ]
    }
   ],
   "source": [
    "numeric_cols = [col for col in df.columns if 'Tot_Spndng' in col or 'Tot_Clms' in col]\n",
    "negatives = (df[numeric_cols] < 0).sum()\n",
    "logger.info(f\"Negative values:\\n{negatives}\")\n",
    "print(negatives)"
   ]
  },
  {
   "cell_type": "code",
   "execution_count": 10,
   "id": "68b33c05",
   "metadata": {},
   "outputs": [
    {
     "name": "stdout",
     "output_type": "stream",
     "text": [
      "     Tot_Spndng_2019  Tot_Clms_2019  Tot_Spndng_2020  Tot_Clms_2020  \\\n",
      "min     5.716000e+01           11.0     5.711000e+01           11.0   \n",
      "max     7.304981e+09     50532357.0     9.936070e+09     55581508.0   \n",
      "\n",
      "     Tot_Spndng_2021  Tot_Clms_2021  Tot_Spndng_2022  Tot_Clms_2022  \\\n",
      "min     2.643000e+01           11.0     3.306000e+01           11.0   \n",
      "max     1.257515e+10     61088412.0     1.521981e+10     64797138.0   \n",
      "\n",
      "     Tot_Spndng_2023  Tot_Clms_2023  \n",
      "min     3.118000e+01             11  \n",
      "max     1.827345e+10       68493698  \n"
     ]
    }
   ],
   "source": [
    "range_check = df[numeric_cols].agg(['min', 'max'])\n",
    "logger.info(f\"Range check:\\n{range_check}\")\n",
    "print(range_check)"
   ]
  },
  {
   "cell_type": "code",
   "execution_count": 11,
   "id": "85ecd027",
   "metadata": {},
   "outputs": [
    {
     "data": {
      "text/plain": [
       "Brnd_Name\n",
       "Lacosamide*                      21\n",
       "Doxepin HCl*                     20\n",
       "Fenofibrate                      18\n",
       "Pantoprazole Sodium*             18\n",
       "Potassium Chloride*              16\n",
       "Levetiracetam*                   16\n",
       "Emtricitabine-Tenofovir Disop    15\n",
       "Triamcinolone Acetonide*         14\n",
       "Lurasidone HCl                   14\n",
       "Famotidine*                      14\n",
       "Name: count, dtype: int64"
      ]
     },
     "execution_count": 11,
     "metadata": {},
     "output_type": "execute_result"
    }
   ],
   "source": [
    "# df.isna().sum().sort_values(ascending=False).head(20)\n",
    "df[df['Tot_Spndng_2019'].isna()]['Brnd_Name'].value_counts().head(10)\n"
   ]
  },
  {
   "cell_type": "code",
   "execution_count": 12,
   "id": "bbb2dfed",
   "metadata": {},
   "outputs": [],
   "source": [
    "# Convert Outlier_Flag to Boolean\n",
    "outlier_cols = [col for col in df.columns if \"Outlier_Flag\" in col]\n",
    "for col in outlier_cols:\n",
    "    df[col] = df[col].apply(lambda x: True if x == 1 else False)\n",
    "\n",
    "# Fill missing spending, claims, bene counts with 0 (assume no activity)\n",
    "spending_cols = [col for col in df.columns if \"Tot_Spndng\" in col]\n",
    "claims_cols = [col for col in df.columns if \"Tot_Clms\" in col]\n",
    "bene_cols = [col for col in df.columns if \"Tot_Benes\" in col]\n",
    "df[spending_cols + claims_cols + bene_cols] = df[spending_cols + claims_cols + bene_cols].fillna(0)\n",
    "\n",
    "# Leave average spend columns as NaN\n"
   ]
  },
  {
   "cell_type": "markdown",
   "id": "c232f212",
   "metadata": {},
   "source": [
    "Outlier flags: CMS marked some drug-year combos as “weird.” We’ve converted that to True/False.\n",
    "\n",
    "Spending/claims/beneficiaries blanks: We assume 0 activity (no sales/prescriptions).\n",
    "\n",
    "Average spending blanks: We keep them blank"
   ]
  },
  {
   "cell_type": "code",
   "execution_count": 13,
   "id": "edbd12d3",
   "metadata": {},
   "outputs": [
    {
     "name": "stdout",
     "output_type": "stream",
     "text": [
      "Avg_Spnd_Per_Dsg_Unt_Wghtd_2019    4205\n",
      "Avg_Spnd_Per_Clm_2019              4205\n",
      "Avg_Spnd_Per_Bene_2019             4399\n",
      "Avg_Spnd_Per_Dsg_Unt_Wghtd_2020    3258\n",
      "Avg_Spnd_Per_Clm_2020              3258\n",
      "Avg_Spnd_Per_Bene_2020             3518\n",
      "Avg_Spnd_Per_Dsg_Unt_Wghtd_2021    2278\n",
      "Avg_Spnd_Per_Clm_2021              2278\n",
      "Avg_Spnd_Per_Bene_2021             2612\n",
      "Avg_Spnd_Per_Dsg_Unt_Wghtd_2022    1326\n",
      "Avg_Spnd_Per_Clm_2022              1326\n",
      "Avg_Spnd_Per_Bene_2022             1735\n",
      "Avg_Spnd_Per_Dsg_Unt_Wghtd_2023       0\n",
      "Avg_Spnd_Per_Clm_2023                 0\n",
      "Avg_Spnd_Per_Bene_2023              762\n",
      "Chg_Avg_Spnd_Per_Dsg_Unt_22_23     1326\n",
      "CAGR_Avg_Spnd_Per_Dsg_Unt_19_23    1161\n",
      "dtype: int64\n"
     ]
    }
   ],
   "source": [
    "print(df[[col for col in df.columns if \"Avg_Spnd\" in col]].isna().sum())"
   ]
  },
  {
   "cell_type": "code",
   "execution_count": 14,
   "id": "f1d8bbdc",
   "metadata": {},
   "outputs": [
    {
     "name": "stdout",
     "output_type": "stream",
     "text": [
      "Negative values:\n",
      " Tot_Spndng_2019    0\n",
      "Tot_Clms_2019      0\n",
      "Tot_Spndng_2020    0\n",
      "Tot_Clms_2020      0\n",
      "Tot_Spndng_2021    0\n",
      "Tot_Clms_2021      0\n",
      "Tot_Spndng_2022    0\n",
      "Tot_Clms_2022      0\n",
      "Tot_Spndng_2023    0\n",
      "Tot_Clms_2023      0\n",
      "dtype: int64\n"
     ]
    }
   ],
   "source": [
    "# Check for negative values in key columns\n",
    "check_cols = [col for col in df.columns if \"Tot_Spndng\" in col or \"Tot_Clms\" in col]\n",
    "negatives = (df[check_cols] < 0).sum()\n",
    "print(\"Negative values:\\n\", negatives)\n",
    "\n",
    "\n"
   ]
  },
  {
   "cell_type": "code",
   "execution_count": 15,
   "id": "178a76ce",
   "metadata": {},
   "outputs": [
    {
     "name": "stdout",
     "output_type": "stream",
     "text": [
      "Tot_Spndng_2019: min=0.0, max=7304981235.0\n",
      "Tot_Spndng_2020: min=0.0, max=9936069814.0\n",
      "Tot_Spndng_2021: min=0.0, max=12575145852.0\n",
      "Tot_Spndng_2022: min=0.0, max=15219812294.0\n",
      "Tot_Spndng_2023: min=31.18, max=18273451967.0\n"
     ]
    }
   ],
   "source": [
    "# Check maximum spending per brand per year\n",
    "for col in [c for c in df.columns if \"Tot_Spndng\" in c]:\n",
    "    print(f\"{col}: min={df[col].min()}, max={df[col].max()}\")"
   ]
  },
  {
   "cell_type": "code",
   "execution_count": 16,
   "id": "b519c480",
   "metadata": {},
   "outputs": [
    {
     "name": "stdout",
     "output_type": "stream",
     "text": [
      "Outliers detected per column:\n",
      " {'Tot_Spndng_2019': 2372, 'Tot_Clms_2019': 2655, 'Tot_Spndng_2020': 2370, 'Tot_Clms_2020': 2571, 'Tot_Spndng_2021': 2293, 'Tot_Clms_2021': 2556, 'Tot_Spndng_2022': 2243, 'Tot_Clms_2022': 2536, 'Tot_Spndng_2023': 2236, 'Tot_Clms_2023': 2528}\n"
     ]
    }
   ],
   "source": [
    "numeric_cols = [col for col in df.columns if \"Tot_Spndng\" in col or \"Tot_Clms\" in col]\n",
    "outlier_summary = {}\n",
    "\n",
    "for col in numeric_cols:\n",
    "    Q1 = df[col].quantile(0.25)\n",
    "    Q3 = df[col].quantile(0.75)\n",
    "    IQR = Q3 - Q1\n",
    "    lower = Q1 - 1.5 * IQR\n",
    "    upper = Q3 + 1.5 * IQR\n",
    "    outliers = df[(df[col] < lower) | (df[col] > upper)]\n",
    "    outlier_summary[col] = len(outliers)\n",
    "\n",
    "print(\"Outliers detected per column:\\n\", outlier_summary)\n"
   ]
  },
  {
   "cell_type": "code",
   "execution_count": null,
   "id": "457974cd",
   "metadata": {},
   "outputs": [],
   "source": []
  },
  {
   "cell_type": "code",
   "execution_count": null,
   "id": "07b139e2",
   "metadata": {},
   "outputs": [],
   "source": []
  }
 ],
 "metadata": {
  "kernelspec": {
   "display_name": "Python 3 (ipykernel)",
   "language": "python",
   "name": "python3"
  },
  "language_info": {
   "codemirror_mode": {
    "name": "ipython",
    "version": 3
   },
   "file_extension": ".py",
   "mimetype": "text/x-python",
   "name": "python",
   "nbconvert_exporter": "python",
   "pygments_lexer": "ipython3",
   "version": "3.11.5"
  }
 },
 "nbformat": 4,
 "nbformat_minor": 5
}
